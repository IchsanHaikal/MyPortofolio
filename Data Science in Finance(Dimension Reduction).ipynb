{
 "cells": [
  {
   "cell_type": "markdown",
   "id": "63983ee7",
   "metadata": {},
   "source": [
    "# Langkah 1: Standarisasi Data"
   ]
  },
  {
   "cell_type": "code",
   "execution_count": 1,
   "id": "05a16c25",
   "metadata": {},
   "outputs": [
    {
     "data": {
      "text/html": [
       "<table>\n",
       "<thead><tr><th scope=col>x1</th><th scope=col>x2</th><th scope=col>x3</th></tr></thead>\n",
       "<tbody>\n",
       "\t<tr><td>-0.906102243</td><td>-0.7416508  </td><td>-0.3747010  </td></tr>\n",
       "\t<tr><td> 0.007307276</td><td> 0.1550555  </td><td>-0.4843659  </td></tr>\n",
       "\t<tr><td>-1.125320527</td><td>-1.1526412  </td><td> 0.6893456  </td></tr>\n",
       "</tbody>\n",
       "</table>\n"
      ],
      "text/latex": [
       "\\begin{tabular}{r|lll}\n",
       " x1 & x2 & x3\\\\\n",
       "\\hline\n",
       "\t -0.906102243 & -0.7416508   & -0.3747010  \\\\\n",
       "\t  0.007307276 &  0.1550555   & -0.4843659  \\\\\n",
       "\t -1.125320527 & -1.1526412   &  0.6893456  \\\\\n",
       "\\end{tabular}\n"
      ],
      "text/markdown": [
       "\n",
       "| x1 | x2 | x3 |\n",
       "|---|---|---|\n",
       "| -0.906102243 | -0.7416508   | -0.3747010   |\n",
       "|  0.007307276 |  0.1550555   | -0.4843659   |\n",
       "| -1.125320527 | -1.1526412   |  0.6893456   |\n",
       "\n"
      ],
      "text/plain": [
       "  x1           x2         x3        \n",
       "1 -0.906102243 -0.7416508 -0.3747010\n",
       "2  0.007307276  0.1550555 -0.4843659\n",
       "3 -1.125320527 -1.1526412  0.6893456"
      ]
     },
     "metadata": {},
     "output_type": "display_data"
    }
   ],
   "source": [
    "library(openxlsx)\n",
    "df <- read.xlsx(\"https://storage.googleapis.com/dqlab-dataset/dqlab_pcadata.xlsx\", sheet=\"3varb\")\n",
    "\n",
    "#standarisasi variabel (centering dan scaling)\n",
    "df <- scale(df, center = TRUE, scale = TRUE)\n",
    "head(df, 3)"
   ]
  },
  {
   "cell_type": "markdown",
   "id": "6a35e2f9",
   "metadata": {},
   "source": [
    "# Langkah 2: Menghitung Matrik Korelasi Data"
   ]
  },
  {
   "cell_type": "code",
   "execution_count": 2,
   "id": "0e5e1a64",
   "metadata": {},
   "outputs": [
    {
     "data": {
      "text/html": [
       "<table>\n",
       "<thead><tr><th></th><th scope=col>x1</th><th scope=col>x2</th><th scope=col>x3</th></tr></thead>\n",
       "<tbody>\n",
       "\t<tr><th scope=row>x1</th><td>1.0000000</td><td>0.9869242</td><td>0.2994195</td></tr>\n",
       "\t<tr><th scope=row>x2</th><td>0.9869242</td><td>1.0000000</td><td>0.2584419</td></tr>\n",
       "\t<tr><th scope=row>x3</th><td>0.2994195</td><td>0.2584419</td><td>1.0000000</td></tr>\n",
       "</tbody>\n",
       "</table>\n"
      ],
      "text/latex": [
       "\\begin{tabular}{r|lll}\n",
       "  & x1 & x2 & x3\\\\\n",
       "\\hline\n",
       "\tx1 & 1.0000000 & 0.9869242 & 0.2994195\\\\\n",
       "\tx2 & 0.9869242 & 1.0000000 & 0.2584419\\\\\n",
       "\tx3 & 0.2994195 & 0.2584419 & 1.0000000\\\\\n",
       "\\end{tabular}\n"
      ],
      "text/markdown": [
       "\n",
       "| <!--/--> | x1 | x2 | x3 |\n",
       "|---|---|---|---|\n",
       "| x1 | 1.0000000 | 0.9869242 | 0.2994195 |\n",
       "| x2 | 0.9869242 | 1.0000000 | 0.2584419 |\n",
       "| x3 | 0.2994195 | 0.2584419 | 1.0000000 |\n",
       "\n"
      ],
      "text/plain": [
       "   x1        x2        x3       \n",
       "x1 1.0000000 0.9869242 0.2994195\n",
       "x2 0.9869242 1.0000000 0.2584419\n",
       "x3 0.2994195 0.2584419 1.0000000"
      ]
     },
     "metadata": {},
     "output_type": "display_data"
    }
   ],
   "source": [
    "library(openxlsx)\n",
    "\n",
    "df <- read.xlsx(\"https://storage.googleapis.com/dqlab-dataset/dqlab_pcadata.xlsx\", sheet=\"3varb\")\n",
    "df <- scale(df, center = TRUE, scale = TRUE)\n",
    "\n",
    "cormat <- cor(df)\n",
    "cormat"
   ]
  },
  {
   "cell_type": "markdown",
   "id": "4d455beb",
   "metadata": {},
   "source": [
    "# Langkah 3: Menghitung Nilai Eigen dan Vektor Eigen"
   ]
  },
  {
   "cell_type": "code",
   "execution_count": 3,
   "id": "b30c0171",
   "metadata": {},
   "outputs": [
    {
     "data": {
      "text/plain": [
       "eigen() decomposition\n",
       "$values\n",
       "[1] 2.12525679 0.86259104 0.01215218\n",
       "\n",
       "$vectors\n",
       "          [,1]       [,2]        [,3]\n",
       "[1,] 0.6704698 -0.2112281  0.71123334\n",
       "[2,] 0.6640498 -0.2567210 -0.70223374\n",
       "[3,] 0.3309200  0.9431209 -0.03185768\n"
      ]
     },
     "metadata": {},
     "output_type": "display_data"
    }
   ],
   "source": [
    "library(openxlsx)\n",
    "\n",
    "df <- read.xlsx(\"https://storage.googleapis.com/dqlab-dataset/dqlab_pcadata.xlsx\", sheet=\"3varb\")\n",
    "df <- scale(df, center = TRUE, scale = TRUE)\n",
    "\n",
    "cormat <- cor(df)\n",
    "\n",
    "eig <- eigen(cormat)\n",
    "eig"
   ]
  },
  {
   "cell_type": "markdown",
   "id": "5020580d",
   "metadata": {},
   "source": [
    "# Langkah 4: Memilih Banyaknya Principal Component"
   ]
  },
  {
   "cell_type": "code",
   "execution_count": 4,
   "id": "d10b8bf1",
   "metadata": {},
   "outputs": [
    {
     "data": {
      "text/html": [
       "<ol class=list-inline>\n",
       "\t<li>0.708</li>\n",
       "\t<li>0.288</li>\n",
       "\t<li>0.004</li>\n",
       "</ol>\n"
      ],
      "text/latex": [
       "\\begin{enumerate*}\n",
       "\\item 0.708\n",
       "\\item 0.288\n",
       "\\item 0.004\n",
       "\\end{enumerate*}\n"
      ],
      "text/markdown": [
       "1. 0.708\n",
       "2. 0.288\n",
       "3. 0.004\n",
       "\n",
       "\n"
      ],
      "text/plain": [
       "[1] 0.708 0.288 0.004"
      ]
     },
     "metadata": {},
     "output_type": "display_data"
    }
   ],
   "source": [
    "library(openxlsx)\n",
    "df <- read.xlsx(\"https://storage.googleapis.com/dqlab-dataset/dqlab_pcadata.xlsx\", sheet=\"3varb\")\n",
    "df <- scale(df, center = TRUE, scale = TRUE)\n",
    "cormat <- cor(df)\n",
    "eig <- eigen(cormat)\n",
    "\n",
    "round(eig$values/ncol(df),3)"
   ]
  },
  {
   "cell_type": "code",
   "execution_count": 5,
   "id": "5b3ec6e4",
   "metadata": {},
   "outputs": [
    {
     "data": {
      "text/html": [
       "<ol class=list-inline>\n",
       "\t<li>0.708</li>\n",
       "\t<li>0.996</li>\n",
       "\t<li>1</li>\n",
       "</ol>\n"
      ],
      "text/latex": [
       "\\begin{enumerate*}\n",
       "\\item 0.708\n",
       "\\item 0.996\n",
       "\\item 1\n",
       "\\end{enumerate*}\n"
      ],
      "text/markdown": [
       "1. 0.708\n",
       "2. 0.996\n",
       "3. 1\n",
       "\n",
       "\n"
      ],
      "text/plain": [
       "[1] 0.708 0.996 1.000"
      ]
     },
     "metadata": {},
     "output_type": "display_data"
    }
   ],
   "source": [
    "round(cumsum(eig$values/ncol(df)),3)"
   ]
  },
  {
   "cell_type": "code",
   "execution_count": 6,
   "id": "0734f243",
   "metadata": {},
   "outputs": [
    {
     "data": {
      "text/plain": [
       "Standard deviations (1, .., p=3):\n",
       "[1] 1.4578260 0.9287578 0.1102369\n",
       "\n",
       "Rotation (n x k) = (3 x 3):\n",
       "         PC1        PC2         PC3\n",
       "x1 0.6704698 -0.2112281 -0.71123334\n",
       "x2 0.6640498 -0.2567210  0.70223374\n",
       "x3 0.3309200  0.9431209  0.03185768"
      ]
     },
     "metadata": {},
     "output_type": "display_data"
    }
   ],
   "source": [
    "pr.out <- prcomp(df, scale. = TRUE, center = TRUE)\n",
    "pr.out"
   ]
  },
  {
   "cell_type": "code",
   "execution_count": 7,
   "id": "deced3ea",
   "metadata": {},
   "outputs": [
    {
     "data": {
      "text/plain": [
       "Importance of components:\n",
       "                          PC1    PC2     PC3\n",
       "Standard deviation     1.4578 0.9288 0.11024\n",
       "Proportion of Variance 0.7084 0.2875 0.00405\n",
       "Cumulative Proportion  0.7084 0.9960 1.00000"
      ]
     },
     "metadata": {},
     "output_type": "display_data"
    }
   ],
   "source": [
    "summary(pr.out)"
   ]
  },
  {
   "cell_type": "code",
   "execution_count": 8,
   "id": "f368fb10",
   "metadata": {},
   "outputs": [
    {
     "ename": "ERROR",
     "evalue": "Error in library(factoextra): there is no package called 'factoextra'\n",
     "output_type": "error",
     "traceback": [
      "Error in library(factoextra): there is no package called 'factoextra'\nTraceback:\n",
      "1. library(factoextra)"
     ]
    }
   ],
   "source": [
    "library(factoextra)"
   ]
  },
  {
   "cell_type": "code",
   "execution_count": null,
   "id": "c79ea328",
   "metadata": {},
   "outputs": [],
   "source": [
    "fviz_eig(pr.out, addlabels = TRUE)"
   ]
  },
  {
   "cell_type": "code",
   "execution_count": null,
   "id": "8255347a",
   "metadata": {},
   "outputs": [],
   "source": [
    "screeplot(pr.out, type = \"line\")\n",
    "abline(h = 1, lty = 3, col = \"red\")"
   ]
  },
  {
   "cell_type": "markdown",
   "id": "4fb18856",
   "metadata": {},
   "source": [
    "# Langkah 5: Visualisasi dengan Biplot"
   ]
  },
  {
   "cell_type": "code",
   "execution_count": 9,
   "id": "ac21c819",
   "metadata": {},
   "outputs": [
    {
     "data": {
      "text/html": [
       "<table>\n",
       "<thead><tr><th></th><th scope=col>PC1</th><th scope=col>PC2</th><th scope=col>PC3</th></tr></thead>\n",
       "<tbody>\n",
       "\t<tr><th scope=row>x1</th><td>0.6704698  </td><td>-0.2112281 </td><td>-0.71123334</td></tr>\n",
       "\t<tr><th scope=row>x2</th><td>0.6640498  </td><td>-0.2567210 </td><td> 0.70223374</td></tr>\n",
       "\t<tr><th scope=row>x3</th><td>0.3309200  </td><td> 0.9431209 </td><td> 0.03185768</td></tr>\n",
       "</tbody>\n",
       "</table>\n"
      ],
      "text/latex": [
       "\\begin{tabular}{r|lll}\n",
       "  & PC1 & PC2 & PC3\\\\\n",
       "\\hline\n",
       "\tx1 & 0.6704698   & -0.2112281  & -0.71123334\\\\\n",
       "\tx2 & 0.6640498   & -0.2567210  &  0.70223374\\\\\n",
       "\tx3 & 0.3309200   &  0.9431209  &  0.03185768\\\\\n",
       "\\end{tabular}\n"
      ],
      "text/markdown": [
       "\n",
       "| <!--/--> | PC1 | PC2 | PC3 |\n",
       "|---|---|---|---|\n",
       "| x1 | 0.6704698   | -0.2112281  | -0.71123334 |\n",
       "| x2 | 0.6640498   | -0.2567210  |  0.70223374 |\n",
       "| x3 | 0.3309200   |  0.9431209  |  0.03185768 |\n",
       "\n"
      ],
      "text/plain": [
       "   PC1       PC2        PC3        \n",
       "x1 0.6704698 -0.2112281 -0.71123334\n",
       "x2 0.6640498 -0.2567210  0.70223374\n",
       "x3 0.3309200  0.9431209  0.03185768"
      ]
     },
     "metadata": {},
     "output_type": "display_data"
    }
   ],
   "source": [
    "library(openxlsx)\n",
    "df <- read.xlsx(\"https://storage.googleapis.com/dqlab-dataset/dqlab_pcadata.xlsx\", sheet=\"3varb\")\n",
    "df <- scale(df, center = TRUE, scale = TRUE)\n",
    "\n",
    "pr.out <- prcomp(df, scale. = TRUE, center = TRUE)\n",
    "\n",
    "pr.out$rotation"
   ]
  },
  {
   "cell_type": "code",
   "execution_count": 10,
   "id": "8ea89284",
   "metadata": {},
   "outputs": [
    {
     "data": {
      "image/png": "[encoded data removed]",
      "text/plain": [
       "plot without title"
      ]
     },
     "metadata": {},
     "output_type": "display_data"
    }
   ],
   "source": [
    "biplot(pr.out, scale = 0)"
   ]
  },
  {
   "cell_type": "markdown",
   "id": "55eb3bad",
   "metadata": {},
   "source": [
    "# Langkah 6: Menghitung Skor Baru"
   ]
  },
  {
   "cell_type": "code",
   "execution_count": 11,
   "id": "748106ba",
   "metadata": {},
   "outputs": [
    {
     "data": {
      "text/html": [
       "<table>\n",
       "<thead><tr><th scope=col>x1</th><th scope=col>x2</th><th scope=col>x3</th></tr></thead>\n",
       "<tbody>\n",
       "\t<tr><td>-0.906102243</td><td>-0.7416508  </td><td>-0.3747010  </td></tr>\n",
       "\t<tr><td> 0.007307276</td><td> 0.1550555  </td><td>-0.4843659  </td></tr>\n",
       "\t<tr><td>-1.125320527</td><td>-1.1526412  </td><td> 0.6893456  </td></tr>\n",
       "\t<tr><td> 1.541835268</td><td> 1.2012128  </td><td> 0.5159564  </td></tr>\n",
       "\t<tr><td> 0.153452799</td><td> 0.2671437  </td><td>-1.0220701  </td></tr>\n",
       "\t<tr><td>-1.125320527</td><td>-1.1526412  </td><td>-1.0450404  </td></tr>\n",
       "</tbody>\n",
       "</table>\n"
      ],
      "text/latex": [
       "\\begin{tabular}{r|lll}\n",
       " x1 & x2 & x3\\\\\n",
       "\\hline\n",
       "\t -0.906102243 & -0.7416508   & -0.3747010  \\\\\n",
       "\t  0.007307276 &  0.1550555   & -0.4843659  \\\\\n",
       "\t -1.125320527 & -1.1526412   &  0.6893456  \\\\\n",
       "\t  1.541835268 &  1.2012128   &  0.5159564  \\\\\n",
       "\t  0.153452799 &  0.2671437   & -1.0220701  \\\\\n",
       "\t -1.125320527 & -1.1526412   & -1.0450404  \\\\\n",
       "\\end{tabular}\n"
      ],
      "text/markdown": [
       "\n",
       "| x1 | x2 | x3 |\n",
       "|---|---|---|\n",
       "| -0.906102243 | -0.7416508   | -0.3747010   |\n",
       "|  0.007307276 |  0.1550555   | -0.4843659   |\n",
       "| -1.125320527 | -1.1526412   |  0.6893456   |\n",
       "|  1.541835268 |  1.2012128   |  0.5159564   |\n",
       "|  0.153452799 |  0.2671437   | -1.0220701   |\n",
       "| -1.125320527 | -1.1526412   | -1.0450404   |\n",
       "\n"
      ],
      "text/plain": [
       "  x1           x2         x3        \n",
       "1 -0.906102243 -0.7416508 -0.3747010\n",
       "2  0.007307276  0.1550555 -0.4843659\n",
       "3 -1.125320527 -1.1526412  0.6893456\n",
       "4  1.541835268  1.2012128  0.5159564\n",
       "5  0.153452799  0.2671437 -1.0220701\n",
       "6 -1.125320527 -1.1526412 -1.0450404"
      ]
     },
     "metadata": {},
     "output_type": "display_data"
    }
   ],
   "source": [
    "library(openxlsx)\n",
    "df <- read.xlsx(\"https://storage.googleapis.com/dqlab-dataset/dqlab_pcadata.xlsx\", sheet=\"3varb\")\n",
    "df <- scale(df, center = TRUE, scale = TRUE)\n",
    "pr.out <- prcomp(df, scale. = TRUE, center = TRUE)\n",
    "\n",
    "head(df)"
   ]
  },
  {
   "cell_type": "code",
   "execution_count": 12,
   "id": "f94ab620",
   "metadata": {},
   "outputs": [
    {
     "data": {
      "text/html": [
       "<table>\n",
       "<thead><tr><th scope=col>PC1</th><th scope=col>PC2</th></tr></thead>\n",
       "<tbody>\n",
       "\t<tr><td>-1.22400335</td><td> 0.02840327</td></tr>\n",
       "\t<tr><td>-0.05242254</td><td>-0.49816513</td></tr>\n",
       "\t<tr><td>-1.29178635</td><td> 1.18374272</td></tr>\n",
       "\t<tr><td> 2.00215943</td><td>-0.14744625</td></tr>\n",
       "\t<tr><td>-0.05794123</td><td>-1.06493057</td></tr>\n",
       "\t<tr><td>-1.86572942</td><td>-0.45199295</td></tr>\n",
       "</tbody>\n",
       "</table>\n"
      ],
      "text/latex": [
       "\\begin{tabular}{r|ll}\n",
       " PC1 & PC2\\\\\n",
       "\\hline\n",
       "\t -1.22400335 &  0.02840327\\\\\n",
       "\t -0.05242254 & -0.49816513\\\\\n",
       "\t -1.29178635 &  1.18374272\\\\\n",
       "\t  2.00215943 & -0.14744625\\\\\n",
       "\t -0.05794123 & -1.06493057\\\\\n",
       "\t -1.86572942 & -0.45199295\\\\\n",
       "\\end{tabular}\n"
      ],
      "text/markdown": [
       "\n",
       "| PC1 | PC2 |\n",
       "|---|---|\n",
       "| -1.22400335 |  0.02840327 |\n",
       "| -0.05242254 | -0.49816513 |\n",
       "| -1.29178635 |  1.18374272 |\n",
       "|  2.00215943 | -0.14744625 |\n",
       "| -0.05794123 | -1.06493057 |\n",
       "| -1.86572942 | -0.45199295 |\n",
       "\n"
      ],
      "text/plain": [
       "  PC1         PC2        \n",
       "1 -1.22400335  0.02840327\n",
       "2 -0.05242254 -0.49816513\n",
       "3 -1.29178635  1.18374272\n",
       "4  2.00215943 -0.14744625\n",
       "5 -0.05794123 -1.06493057\n",
       "6 -1.86572942 -0.45199295"
      ]
     },
     "metadata": {},
     "output_type": "display_data"
    }
   ],
   "source": [
    "df_new <- df %*% pr.out$rotation\n",
    "df_new[1:6,1:2]"
   ]
  },
  {
   "cell_type": "markdown",
   "id": "21dfb7e5",
   "metadata": {},
   "source": [
    "# Tugas Praktik"
   ]
  },
  {
   "cell_type": "code",
   "execution_count": 13,
   "id": "406b19de",
   "metadata": {},
   "outputs": [
    {
     "name": "stdout",
     "output_type": "stream",
     "text": [
      "'data.frame':\t20 obs. of  3 variables:\n",
      " $ x1: num  8.1 10.6 7.5 14.8 11 7.5 11.5 12.2 11.7 9.1 ...\n",
      " $ x2: num  10.6 13 9.5 15.8 13.3 9.5 13.4 13.5 13.5 11.3 ...\n",
      " $ x3: num  217.7 173.3 648.5 578.3 -44.4 ...\n"
     ]
    }
   ],
   "source": [
    "#Panggil library openxlsx untuk membaca file data Excel\n",
    "library(openxlsx)\n",
    "\n",
    "#Baca data pada sheet \"3varb\" dalam file https://storage.googleapis.com/dqlab-dataset/dqlab_pcadata.xlsx\n",
    "#dan simpan data dengan nama df_raw\n",
    "df_raw <- read.xlsx(\"https://storage.googleapis.com/dqlab-dataset/dqlab_pcadata.xlsx\", sheet = \"3varb\")\n",
    "\n",
    "#Tampilkan struktur data\n",
    "str(df_raw)"
   ]
  },
  {
   "cell_type": "code",
   "execution_count": 14,
   "id": "a46331ec",
   "metadata": {},
   "outputs": [
    {
     "data": {
      "text/html": [
       "<table>\n",
       "<thead><tr><th scope=col>x1</th><th scope=col>x2</th><th scope=col>x3</th></tr></thead>\n",
       "<tbody>\n",
       "\t<tr><td> 8.1 </td><td>10.6 </td><td>217.7</td></tr>\n",
       "\t<tr><td>10.6 </td><td>13.0 </td><td>173.3</td></tr>\n",
       "\t<tr><td> 7.5 </td><td> 9.5 </td><td>648.5</td></tr>\n",
       "\t<tr><td>14.8 </td><td>15.8 </td><td>578.3</td></tr>\n",
       "\t<tr><td>11.0 </td><td>13.3 </td><td>-44.4</td></tr>\n",
       "\t<tr><td> 7.5 </td><td> 9.5 </td><td>-53.7</td></tr>\n",
       "</tbody>\n",
       "</table>\n"
      ],
      "text/latex": [
       "\\begin{tabular}{r|lll}\n",
       " x1 & x2 & x3\\\\\n",
       "\\hline\n",
       "\t  8.1  & 10.6  & 217.7\\\\\n",
       "\t 10.6  & 13.0  & 173.3\\\\\n",
       "\t  7.5  &  9.5  & 648.5\\\\\n",
       "\t 14.8  & 15.8  & 578.3\\\\\n",
       "\t 11.0  & 13.3  & -44.4\\\\\n",
       "\t  7.5  &  9.5  & -53.7\\\\\n",
       "\\end{tabular}\n"
      ],
      "text/markdown": [
       "\n",
       "| x1 | x2 | x3 |\n",
       "|---|---|---|\n",
       "|  8.1  | 10.6  | 217.7 |\n",
       "| 10.6  | 13.0  | 173.3 |\n",
       "|  7.5  |  9.5  | 648.5 |\n",
       "| 14.8  | 15.8  | 578.3 |\n",
       "| 11.0  | 13.3  | -44.4 |\n",
       "|  7.5  |  9.5  | -53.7 |\n",
       "\n"
      ],
      "text/plain": [
       "  x1   x2   x3   \n",
       "1  8.1 10.6 217.7\n",
       "2 10.6 13.0 173.3\n",
       "3  7.5  9.5 648.5\n",
       "4 14.8 15.8 578.3\n",
       "5 11.0 13.3 -44.4\n",
       "6  7.5  9.5 -53.7"
      ]
     },
     "metadata": {},
     "output_type": "display_data"
    }
   ],
   "source": [
    "#Tampilkan beberapa baris observasi dengan fungsi head()\n",
    "head(df_raw)"
   ]
  },
  {
   "cell_type": "code",
   "execution_count": 15,
   "id": "c3738643",
   "metadata": {},
   "outputs": [
    {
     "data": {
      "text/html": [
       "<ol class=list-inline>\n",
       "\t<li>'sdev'</li>\n",
       "\t<li>'rotation'</li>\n",
       "\t<li>'center'</li>\n",
       "\t<li>'scale'</li>\n",
       "\t<li>'x'</li>\n",
       "</ol>\n"
      ],
      "text/latex": [
       "\\begin{enumerate*}\n",
       "\\item 'sdev'\n",
       "\\item 'rotation'\n",
       "\\item 'center'\n",
       "\\item 'scale'\n",
       "\\item 'x'\n",
       "\\end{enumerate*}\n"
      ],
      "text/markdown": [
       "1. 'sdev'\n",
       "2. 'rotation'\n",
       "3. 'center'\n",
       "4. 'scale'\n",
       "5. 'x'\n",
       "\n",
       "\n"
      ],
      "text/plain": [
       "[1] \"sdev\"     \"rotation\" \"center\"   \"scale\"    \"x\"       "
      ]
     },
     "metadata": {},
     "output_type": "display_data"
    }
   ],
   "source": [
    "#Lakukan analisa PCA dengan fungsi prcomp()\n",
    "#simpan output dengan nama pr.out\n",
    "pr.out <- prcomp(df_raw, center = TRUE, scale = TRUE, retx = TRUE)\n",
    "\n",
    "#Tampilkan komponen output fungsi prcomp()\n",
    "names(pr.out)"
   ]
  },
  {
   "cell_type": "code",
   "execution_count": 16,
   "id": "001c7434",
   "metadata": {},
   "outputs": [
    {
     "data": {
      "text/plain": [
       "Standard deviations (1, .., p=3):\n",
       "[1] 1.4578260 0.9287578 0.1102369\n",
       "\n",
       "Rotation (n x k) = (3 x 3):\n",
       "         PC1        PC2         PC3\n",
       "x1 0.6704698 -0.2112281 -0.71123334\n",
       "x2 0.6640498 -0.2567210  0.70223374\n",
       "x3 0.3309200  0.9431209  0.03185768"
      ]
     },
     "metadata": {},
     "output_type": "display_data"
    }
   ],
   "source": [
    "#Tampilkan output PCA\n",
    "pr.out"
   ]
  },
  {
   "cell_type": "code",
   "execution_count": 17,
   "id": "a5012a23",
   "metadata": {},
   "outputs": [
    {
     "data": {
      "text/plain": [
       "Importance of components:\n",
       "                          PC1    PC2     PC3\n",
       "Standard deviation     1.4578 0.9288 0.11024\n",
       "Proportion of Variance 0.7084 0.2875 0.00405\n",
       "Cumulative Proportion  0.7084 0.9960 1.00000"
      ]
     },
     "metadata": {},
     "output_type": "display_data"
    }
   ],
   "source": [
    "#Tampilkan summary dari output PCA\n",
    "summary(pr.out)"
   ]
  },
  {
   "cell_type": "code",
   "execution_count": 18,
   "id": "e23d2242",
   "metadata": {},
   "outputs": [
    {
     "data": {
      "image/png": "[encoded data removed]",
      "text/plain": [
       "Plot with title \"pr.out\""
      ]
     },
     "metadata": {},
     "output_type": "display_data"
    }
   ],
   "source": [
    "#Gambarkan scree plot\n",
    "#Tambahkan garis horizontal sebagai panduan untuk menggunakan kriteria Kaiser\n",
    "screeplot(pr.out, type = \"line\")\n",
    "abline(h = 1, col = \"red\", lty = 3)"
   ]
  },
  {
   "cell_type": "code",
   "execution_count": 19,
   "id": "f5225892",
   "metadata": {},
   "outputs": [
    {
     "data": {
      "image/png": "[encoded data removed]",
      "text/plain": [
       "plot without title"
      ]
     },
     "metadata": {},
     "output_type": "display_data"
    }
   ],
   "source": [
    "#Gambarkan biplot dengan menggunakan fungsi biplot()\n",
    "biplot(pr.out, scale = 0)"
   ]
  },
  {
   "cell_type": "code",
   "execution_count": 20,
   "id": "efa1fa4d",
   "metadata": {},
   "outputs": [
    {
     "name": "stdout",
     "output_type": "stream",
     "text": [
      "'data.frame':\t900 obs. of  6 variables:\n",
      " $ contractcode: chr  \"AGR-000001\" \"AGR-000011\" \"AGR-000030\" \"AGR-000043\" ...\n",
      " $ income      : num  295 271 159 210 165 220 70 88 163 100 ...\n",
      " $ tenor       : num  48 36 12 12 36 24 36 48 48 36 ...\n",
      " $ dependents  : num  5 5 0 3 0 5 3 3 5 6 ...\n",
      " $ midoverdue  : num  75.5 75.5 0 53 38 15 38 38 38 38 ...\n",
      " $ riskrating  : num  4 4 1 3 2 1 2 2 2 2 ...\n"
     ]
    }
   ],
   "source": [
    "#Panggil library openxlsx untuk membaca file data Excel\n",
    "#[1]\n",
    "library(openxlsx)\n",
    "\n",
    "#Baca data pada sheet \"csdata\" dalam file \"https://storage.googleapis.com/dqlab-dataset/dqlab_pcadata.xlsx\"\n",
    "#dan simpan data dengan nama \"csdat_raw\"\n",
    "#[2]\n",
    "csdat_raw <- read.xlsx(\"https://storage.googleapis.com/dqlab-dataset/dqlab_pcadata.xlsx\", sheet = \"csdata\")\n",
    "\n",
    "#Tampilkan struktur data\n",
    "#[3]\n",
    "str(csdat_raw)"
   ]
  },
  {
   "cell_type": "code",
   "execution_count": 21,
   "id": "41645dc1",
   "metadata": {},
   "outputs": [
    {
     "data": {
      "text/html": [
       "<table>\n",
       "<thead><tr><th scope=col>contractcode</th><th scope=col>income</th><th scope=col>tenor</th><th scope=col>dependents</th><th scope=col>midoverdue</th><th scope=col>riskrating</th></tr></thead>\n",
       "<tbody>\n",
       "\t<tr><td>AGR-000001</td><td>295       </td><td>48        </td><td>5         </td><td>75.5      </td><td>4         </td></tr>\n",
       "\t<tr><td>AGR-000011</td><td>271       </td><td>36        </td><td>5         </td><td>75.5      </td><td>4         </td></tr>\n",
       "\t<tr><td>AGR-000030</td><td>159       </td><td>12        </td><td>0         </td><td> 0.0      </td><td>1         </td></tr>\n",
       "\t<tr><td>AGR-000043</td><td>210       </td><td>12        </td><td>3         </td><td>53.0      </td><td>3         </td></tr>\n",
       "\t<tr><td>AGR-000049</td><td>165       </td><td>36        </td><td>0         </td><td>38.0      </td><td>2         </td></tr>\n",
       "\t<tr><td>AGR-000063</td><td>220       </td><td>24        </td><td>5         </td><td>15.0      </td><td>1         </td></tr>\n",
       "</tbody>\n",
       "</table>\n"
      ],
      "text/latex": [
       "\\begin{tabular}{r|llllll}\n",
       " contractcode & income & tenor & dependents & midoverdue & riskrating\\\\\n",
       "\\hline\n",
       "\t AGR-000001 & 295        & 48         & 5          & 75.5       & 4         \\\\\n",
       "\t AGR-000011 & 271        & 36         & 5          & 75.5       & 4         \\\\\n",
       "\t AGR-000030 & 159        & 12         & 0          &  0.0       & 1         \\\\\n",
       "\t AGR-000043 & 210        & 12         & 3          & 53.0       & 3         \\\\\n",
       "\t AGR-000049 & 165        & 36         & 0          & 38.0       & 2         \\\\\n",
       "\t AGR-000063 & 220        & 24         & 5          & 15.0       & 1         \\\\\n",
       "\\end{tabular}\n"
      ],
      "text/markdown": [
       "\n",
       "| contractcode | income | tenor | dependents | midoverdue | riskrating |\n",
       "|---|---|---|---|---|---|\n",
       "| AGR-000001 | 295        | 48         | 5          | 75.5       | 4          |\n",
       "| AGR-000011 | 271        | 36         | 5          | 75.5       | 4          |\n",
       "| AGR-000030 | 159        | 12         | 0          |  0.0       | 1          |\n",
       "| AGR-000043 | 210        | 12         | 3          | 53.0       | 3          |\n",
       "| AGR-000049 | 165        | 36         | 0          | 38.0       | 2          |\n",
       "| AGR-000063 | 220        | 24         | 5          | 15.0       | 1          |\n",
       "\n"
      ],
      "text/plain": [
       "  contractcode income tenor dependents midoverdue riskrating\n",
       "1 AGR-000001   295    48    5          75.5       4         \n",
       "2 AGR-000011   271    36    5          75.5       4         \n",
       "3 AGR-000030   159    12    0           0.0       1         \n",
       "4 AGR-000043   210    12    3          53.0       3         \n",
       "5 AGR-000049   165    36    0          38.0       2         \n",
       "6 AGR-000063   220    24    5          15.0       1         "
      ]
     },
     "metadata": {},
     "output_type": "display_data"
    }
   ],
   "source": [
    "#Tampilkan beberapa baris observasi dengan fungsi head()\n",
    "#[4]\n",
    "head(csdat_raw)"
   ]
  },
  {
   "cell_type": "code",
   "execution_count": 22,
   "id": "0ef3630b",
   "metadata": {},
   "outputs": [
    {
     "data": {
      "text/plain": [
       " contractcode           income          tenor         dependents   \n",
       " Length:900         Min.   : 70.0   Min.   :12.00   Min.   :0.000  \n",
       " Class :character   1st Qu.:121.0   1st Qu.:12.00   1st Qu.:1.000  \n",
       " Mode  :character   Median :162.0   Median :24.00   Median :3.000  \n",
       "                    Mean   :163.3   Mean   :29.93   Mean   :2.932  \n",
       "                    3rd Qu.:199.0   3rd Qu.:48.00   3rd Qu.:5.000  \n",
       "                    Max.   :300.0   Max.   :48.00   Max.   :6.000  \n",
       "   midoverdue     riskrating   \n",
       " Min.   : 0.0   Min.   :1.000  \n",
       " 1st Qu.:15.0   1st Qu.:1.000  \n",
       " Median :53.0   Median :3.000  \n",
       " Mean   :48.1   Mean   :2.681  \n",
       " 3rd Qu.:53.0   3rd Qu.:3.000  \n",
       " Max.   :91.0   Max.   :5.000  "
      ]
     },
     "metadata": {},
     "output_type": "display_data"
    }
   ],
   "source": [
    "#Tampilkan statistika deskriptif untuk semua variabel dalam data.\n",
    "#[5]\n",
    "summary(csdat_raw)"
   ]
  },
  {
   "cell_type": "code",
   "execution_count": 23,
   "id": "1f4a3c4b",
   "metadata": {},
   "outputs": [
    {
     "name": "stderr",
     "output_type": "stream",
     "text": [
      "Registered S3 methods overwritten by 'ggplot2':\n",
      "  method         from \n",
      "  [.quosures     rlang\n",
      "  c.quosures     rlang\n",
      "  print.quosures rlang\n"
     ]
    },
    {
     "data": {
      "image/png": "[encoded data removed]",
      "text/plain": [
       "plot without title"
      ]
     },
     "metadata": {},
     "output_type": "display_data"
    }
   ],
   "source": [
    "#Gambarkan distribusi Income berdasarkan Dependents\n",
    "library(ggplot2)\n",
    "ggplot(csdat_raw, aes(as.factor(dependents), income)) +\n",
    "geom_boxplot() + xlab(\"Dependents\") + ggtitle(\"Boxplot Income Berdasarkan Dependents\")"
   ]
  },
  {
   "cell_type": "code",
   "execution_count": 24,
   "id": "d55d4bb6",
   "metadata": {},
   "outputs": [
    {
     "data": {
      "text/html": [
       "<table>\n",
       "<thead><tr><th></th><th scope=col>income</th><th scope=col>tenor</th><th scope=col>dependents</th><th scope=col>midoverdue</th></tr></thead>\n",
       "<tbody>\n",
       "\t<tr><th scope=row>income</th><td> 1.00000000</td><td>-0.07256604</td><td>0.2427909  </td><td>0.1250535  </td></tr>\n",
       "\t<tr><th scope=row>tenor</th><td>-0.07256604</td><td> 1.00000000</td><td>0.0334339  </td><td>0.2333681  </td></tr>\n",
       "\t<tr><th scope=row>dependents</th><td> 0.24279088</td><td> 0.03343390</td><td>1.0000000  </td><td>0.7632659  </td></tr>\n",
       "\t<tr><th scope=row>midoverdue</th><td> 0.12505348</td><td> 0.23336810</td><td>0.7632659  </td><td>1.0000000  </td></tr>\n",
       "</tbody>\n",
       "</table>\n"
      ],
      "text/latex": [
       "\\begin{tabular}{r|llll}\n",
       "  & income & tenor & dependents & midoverdue\\\\\n",
       "\\hline\n",
       "\tincome &  1.00000000 & -0.07256604 & 0.2427909   & 0.1250535  \\\\\n",
       "\ttenor & -0.07256604 &  1.00000000 & 0.0334339   & 0.2333681  \\\\\n",
       "\tdependents &  0.24279088 &  0.03343390 & 1.0000000   & 0.7632659  \\\\\n",
       "\tmidoverdue &  0.12505348 &  0.23336810 & 0.7632659   & 1.0000000  \\\\\n",
       "\\end{tabular}\n"
      ],
      "text/markdown": [
       "\n",
       "| <!--/--> | income | tenor | dependents | midoverdue |\n",
       "|---|---|---|---|---|\n",
       "| income |  1.00000000 | -0.07256604 | 0.2427909   | 0.1250535   |\n",
       "| tenor | -0.07256604 |  1.00000000 | 0.0334339   | 0.2333681   |\n",
       "| dependents |  0.24279088 |  0.03343390 | 1.0000000   | 0.7632659   |\n",
       "| midoverdue |  0.12505348 |  0.23336810 | 0.7632659   | 1.0000000   |\n",
       "\n"
      ],
      "text/plain": [
       "           income      tenor       dependents midoverdue\n",
       "income      1.00000000 -0.07256604 0.2427909  0.1250535 \n",
       "tenor      -0.07256604  1.00000000 0.0334339  0.2333681 \n",
       "dependents  0.24279088  0.03343390 1.0000000  0.7632659 \n",
       "midoverdue  0.12505348  0.23336810 0.7632659  1.0000000 "
      ]
     },
     "metadata": {},
     "output_type": "display_data"
    }
   ],
   "source": [
    "#Pisahkan data untuk traning set dan testing set\n",
    "#untuk tiap-tiap risk rating\n",
    "#[5]\n",
    "\n",
    "#Catat indeks/ nomor baris untuk tiap-tiap risk rating\n",
    "index1 <- which(csdat_raw$riskrating == 1)\n",
    "index2 <- which(csdat_raw$riskrating == 2)\n",
    "\n",
    "#Lakukan pencatatan indeks untuk risk rating berikutnya\n",
    "#[6]\n",
    "index3 <- which(csdat_raw$riskrating == 3)\n",
    "index4 <- which(csdat_raw$riskrating == 4)\n",
    "index5 <- which(csdat_raw$riskrating == 5)\n",
    "\n",
    "#80% data akan digunakan sebagai traning set.\n",
    "#Ulangi langkah sampai dengan index5\n",
    "#[7]\n",
    "ntrain1 <- round(0.8 * length(index1))\n",
    "ntrain2 <- round(0.8 * length(index2))\n",
    "ntrain3 <- round(0.8 * length(index3))\n",
    "ntrain4 <- round(0.8 * length(index4))\n",
    "ntrain5 <- round(0.8 * length(index5))\n",
    "\n",
    "#set seed agar sampling ini bisa direproduksi\n",
    "set.seed(100)\n",
    "\n",
    "#sampling data masing-masing rating untuk training set\n",
    "#Ulangi langkah sampai dengan train5_index\n",
    "#[8]\n",
    "train1_index <- sample(index1, ntrain1)\n",
    "train2_index <- sample(index2, ntrain2)\n",
    "train3_index <- sample(index3, ntrain3)\n",
    "train4_index <- sample(index4, ntrain4)\n",
    "train5_index <- sample(index5, ntrain5)\n",
    "\n",
    "#menyimpan data ke dalam testing set\n",
    "#Ulangi langkah sampai dengan test5_index\n",
    "#[9]\n",
    "test1_index <- setdiff(index1, train1_index)\n",
    "test2_index <- setdiff(index2, train2_index)\n",
    "test3_index <- setdiff(index3, train3_index)\n",
    "test4_index <- setdiff(index4, train4_index)\n",
    "test5_index <- setdiff(index5, train5_index)\n",
    "\n",
    "#Menggabungkan hasil sampling masing-masing risk rating ke dalam training set\n",
    "csdattrain <- do.call(\"rbind\", list(csdat_raw[train1_index,],\n",
    "csdat_raw[train2_index,], csdat_raw[train3_index,],\n",
    "csdat_raw[train4_index,], csdat_raw[train5_index,]))\n",
    "cstrain <- subset(csdattrain, select =\n",
    "-c(contractcode,riskrating))\n",
    "\n",
    "#Menggabungkan hasil sampling masing-masing risk rating ke dalam testing set\n",
    "csdattest <- do.call(\"rbind\", list(csdat_raw[test1_index,],\n",
    "csdat_raw[test2_index,], csdat_raw[test3_index,],\n",
    "csdat_raw[test4_index,], csdat_raw[test5_index,])) #[10]\n",
    "cstest <- subset(csdattest,\n",
    "select = -c(contractcode,riskrating)) #[11]\n",
    "\n",
    "#Menghitung korelasi antar variabel\n",
    "cor(cstrain)"
   ]
  },
  {
   "cell_type": "code",
   "execution_count": 25,
   "id": "a69266c9",
   "metadata": {},
   "outputs": [
    {
     "data": {
      "text/plain": [
       "Standard deviations (1, .., p=4):\n",
       "[1] 1.3685609 1.0492944 0.9059637 0.4530475\n",
       "\n",
       "Rotation (n x k) = (4 x 4):\n",
       "                  PC1        PC2        PC3         PC4\n",
       "income     -0.2665678  0.6235436 -0.7299486  0.08549929\n",
       "tenor      -0.1827165 -0.7592266 -0.6015443 -0.16832731\n",
       "dependents -0.6675878  0.1100498  0.2569754 -0.69005738\n",
       "midoverdue -0.6707330 -0.1505238  0.1981998  0.69869635"
      ]
     },
     "metadata": {},
     "output_type": "display_data"
    }
   ],
   "source": [
    "#Lakukan analisa PCA dengan fungsi prcomp() dan\n",
    "#simpan output ke dalam obyek dengan nama pr.out\n",
    "#[12]\n",
    "pr.out <- prcomp(cstrain, scale = TRUE, center = TRUE)\n",
    "\n",
    "#Tampilkan output PCA dengan memanggil obyek pr.out\n",
    "#[13]\n",
    "pr.out"
   ]
  },
  {
   "cell_type": "code",
   "execution_count": 26,
   "id": "524dc52c",
   "metadata": {},
   "outputs": [
    {
     "data": {
      "text/plain": [
       "Importance of components:\n",
       "                          PC1    PC2    PC3     PC4\n",
       "Standard deviation     1.3686 1.0493 0.9060 0.45305\n",
       "Proportion of Variance 0.4682 0.2752 0.2052 0.05131\n",
       "Cumulative Proportion  0.4682 0.7435 0.9487 1.00000"
      ]
     },
     "metadata": {},
     "output_type": "display_data"
    }
   ],
   "source": [
    "#Tampilkan summary dari output PCA\n",
    "#[14]\n",
    "summary(pr.out)"
   ]
  },
  {
   "cell_type": "code",
   "execution_count": 27,
   "id": "36802d1b",
   "metadata": {},
   "outputs": [
    {
     "data": {
      "image/png": "[encoded data removed]",
      "text/plain": [
       "Plot with title \"pr.out\""
      ]
     },
     "metadata": {},
     "output_type": "display_data"
    }
   ],
   "source": [
    "#Gambarkan scree plot dengan menggunakan fungsi screeplot()\n",
    "#[15]\n",
    "screeplot(pr.out, type = \"line\", ylim = c(0,2))\n",
    "\n",
    "#Tambahkan garis horizontal sebagai panduan untuk menggunakan kriteria Kaiser\n",
    "abline(h = 1, lty = 3, col = \"red\")"
   ]
  },
  {
   "cell_type": "code",
   "execution_count": 28,
   "id": "b795ff8f",
   "metadata": {},
   "outputs": [
    {
     "data": {
      "image/png": "[encoded data removed]",
      "text/plain": [
       "plot without title"
      ]
     },
     "metadata": {},
     "output_type": "display_data"
    }
   ],
   "source": [
    "#Gambarkan biplot dengan menggunakan fungsi biplot()\n",
    "#[16]\n",
    "biplot(pr.out, scale = 0) #draw first 2 principal components"
   ]
  }
 ],
 "metadata": {
  "kernelspec": {
   "display_name": "R",
   "language": "R",
   "name": "ir"
  },
  "language_info": {
   "codemirror_mode": "r",
   "file_extension": ".r",
   "mimetype": "text/x-r-source",
   "name": "R",
   "pygments_lexer": "r",
   "version": "3.6.1"
  }
 },
 "nbformat": 4,
 "nbformat_minor": 5
}
